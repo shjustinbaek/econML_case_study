{
  "nbformat": 4,
  "nbformat_minor": 0,
  "metadata": {
    "kernelspec": {
      "display_name": "Python 3",
      "language": "python",
      "name": "python3"
    },
    "language_info": {
      "codemirror_mode": {
        "name": "ipython",
        "version": 3
      },
      "file_extension": ".py",
      "mimetype": "text/x-python",
      "name": "python",
      "nbconvert_exporter": "python",
      "pygments_lexer": "ipython3",
      "version": "3.7.4"
    },
    "colab": {
      "name": "Case Study - Long-Term Return-on-Investment at Microsoft via Short-Term Proxies.ipynb",
      "provenance": [],
      "collapsed_sections": []
    }
  },
  "cells": [
    {
      "cell_type": "markdown",
      "metadata": {
        "id": "sX2vcj1ranZz"
      },
      "source": [
        "<img src=\"https://image.flaticon.com/icons/png/512/2394/2394119.png\" width=\"300\">\n",
        "\n",
        "# Long-Term Return-on-Investment at Microsoft via Short-Term Proxies\n",
        "\n",
        "\n",
        "Policy makers typically face the problem of wanting to estimate the treatment effect of some new incentives on long-run downstream interests. However, we only have historical data of older treatment options, and we haven't seen the long-run play out yet. We assume access to a long-term dataset where only past treatments were administered and a short-term dataset where novel treatments have been administered. We propose a surrogate based approach where we assume that the long-term effect is channeled through a multitude of available short-term proxies. Our work combines three major recent techniques in the causal machine learning literature: **surrogate indices**, **dynamic treatment effect estimation** and **double machine learning**, in a unified\n",
        "pipeline. For more details, see this paper [here](https://arxiv.org/pdf/2103.08390.pdf).\n",
        "\n",
        "In this case study, we will show you how to apply this unified pipeline to a ROI estimation problem at Microsoft. These methodologies have already been implemented into our [EconML](https://aka.ms/econml) library and you could do it with only a few lines of code."
      ]
    },
    {
      "cell_type": "markdown",
      "metadata": {
        "id": "VuGRD78IanZ9"
      },
      "source": [
        "### Summary\n",
        "\n",
        "1. [Background](#Background)\n",
        "2. [Data](#Data)\n",
        "3. [Do Dynamic Adjustment with EconML](#Do-Dynamic-Adjustment-with-EconML)\n",
        "4. [Train Surrogate Index](#Train-Surrogate-Index)\n",
        "5. [Run DML to Learn ROI with EconML](#Run-DML-to-Learn-ROI-with-EconML)\n",
        "6. [Model Evaluation](#Model-Evaluation)\n",
        "7. [Extensions -- Including Heterogeneity in Effect](#Extensions----Including-Heterogeneity-in-Effect)\n",
        "8. [Conclusions](#Conclusions)"
      ]
    },
    {
      "cell_type": "markdown",
      "metadata": {
        "id": "tkfffqEJanaB"
      },
      "source": [
        "# Background\n",
        "\n",
        "Microsoft provides multiple montetary and resource investments to enterprice customers in support of products adoption, the sales manager would like to know which of these programs (\"investments\") are more successful than others? Specifically, we are interested in identifying the average treatment effect of each investment at some period $t$, on the cumulative outcome in the subsequent $m$ months. \n",
        "\n",
        "There are a few challenges to answer this question. First of all, we haven't fully observed the long-term revenue yet and we don't want to wait that long to evaluate a program. In addition, a careful causal modeling is required to correctly attribute the long-term ROI of multiple programs in a holistic manner, avoiding the biased estimate coming from confounding effect or double counting issues. \n",
        "\n",
        "The causal graph below shows how to frame this problem:\n",
        "\n",
        "![](https://drive.google.com/uc?export=view&id=1joPt0TWIn_QTK3eAFe8VBQXIiARyBcZm)\n",
        "\n",
        "**Methodology:** Our proposed adjusted surrogate index approach could address all the chanllenges above by assuming the long-term effect is channeled through some short-term observed surrogates and employing a dynamic adjustment step (`DynamicDML`) to the surrogate model in order to get rid of the effect from future investment, finally applying double machine learning (`DML`) techniques to estimate the ROI. \n",
        "\n",
        "The pipeline below tells you how to solve this problem step by step:\n",
        "![](https://drive.google.com/uc?export=view&id=1VN94rJWbzzXiNl2y91NRXBXFAnCylaQN)"
      ]
    },
    {
      "cell_type": "code",
      "metadata": {
        "id": "WzzTPWdfbDmt",
        "colab": {
          "base_uri": "https://localhost:8080/",
          "height": 0
        },
        "outputId": "485c85f3-3c93-4c18-cce6-815f7ab9fe56"
      },
      "source": [
        "!pip install econml"
      ],
      "execution_count": 2,
      "outputs": [
        {
          "output_type": "stream",
          "name": "stdout",
          "text": [
            "Looking in indexes: https://pypi.org/simple, https://us-python.pkg.dev/colab-wheels/public/simple/\n",
            "Collecting econml\n",
            "  Downloading econml-0.13.0-cp37-cp37m-manylinux_2_17_x86_64.manylinux2014_x86_64.whl (3.3 MB)\n",
            "\u001b[K     |████████████████████████████████| 3.3 MB 4.0 MB/s \n",
            "\u001b[?25hRequirement already satisfied: numpy in /usr/local/lib/python3.7/dist-packages (from econml) (1.21.6)\n",
            "Requirement already satisfied: pandas in /usr/local/lib/python3.7/dist-packages (from econml) (1.3.5)\n",
            "Collecting sparse\n",
            "  Downloading sparse-0.13.0-py2.py3-none-any.whl (77 kB)\n",
            "\u001b[K     |████████████████████████████████| 77 kB 3.8 MB/s \n",
            "\u001b[?25hRequirement already satisfied: scipy>1.4.0 in /usr/local/lib/python3.7/dist-packages (from econml) (1.4.1)\n",
            "Requirement already satisfied: scikit-learn>0.22.0 in /usr/local/lib/python3.7/dist-packages (from econml) (1.0.2)\n",
            "Collecting dowhy<0.7\n",
            "  Downloading dowhy-0.6-py3-none-any.whl (123 kB)\n",
            "\u001b[K     |████████████████████████████████| 123 kB 49.5 MB/s \n",
            "\u001b[?25hRequirement already satisfied: lightgbm in /usr/local/lib/python3.7/dist-packages (from econml) (2.2.3)\n",
            "Collecting shap<0.40.0,>=0.38.1\n",
            "  Downloading shap-0.39.0.tar.gz (356 kB)\n",
            "\u001b[K     |████████████████████████████████| 356 kB 48.1 MB/s \n",
            "\u001b[?25hRequirement already satisfied: statsmodels>=0.10 in /usr/local/lib/python3.7/dist-packages (from econml) (0.10.2)\n",
            "Requirement already satisfied: joblib>=0.13.0 in /usr/local/lib/python3.7/dist-packages (from econml) (1.1.0)\n",
            "Requirement already satisfied: networkx>=2.0 in /usr/local/lib/python3.7/dist-packages (from dowhy<0.7->econml) (2.6.3)\n",
            "Requirement already satisfied: sympy>=1.4 in /usr/local/lib/python3.7/dist-packages (from dowhy<0.7->econml) (1.7.1)\n",
            "Collecting pydot>=1.4\n",
            "  Downloading pydot-1.4.2-py2.py3-none-any.whl (21 kB)\n",
            "Requirement already satisfied: pytz>=2017.3 in /usr/local/lib/python3.7/dist-packages (from pandas->econml) (2022.1)\n",
            "Requirement already satisfied: python-dateutil>=2.7.3 in /usr/local/lib/python3.7/dist-packages (from pandas->econml) (2.8.2)\n",
            "Requirement already satisfied: pyparsing>=2.1.4 in /usr/local/lib/python3.7/dist-packages (from pydot>=1.4->dowhy<0.7->econml) (3.0.9)\n",
            "Requirement already satisfied: six>=1.5 in /usr/local/lib/python3.7/dist-packages (from python-dateutil>=2.7.3->pandas->econml) (1.15.0)\n",
            "Requirement already satisfied: threadpoolctl>=2.0.0 in /usr/local/lib/python3.7/dist-packages (from scikit-learn>0.22.0->econml) (3.1.0)\n",
            "Requirement already satisfied: tqdm>4.25.0 in /usr/local/lib/python3.7/dist-packages (from shap<0.40.0,>=0.38.1->econml) (4.64.0)\n",
            "Collecting slicer==0.0.7\n",
            "  Downloading slicer-0.0.7-py3-none-any.whl (14 kB)\n",
            "Requirement already satisfied: numba in /usr/local/lib/python3.7/dist-packages (from shap<0.40.0,>=0.38.1->econml) (0.51.2)\n",
            "Requirement already satisfied: cloudpickle in /usr/local/lib/python3.7/dist-packages (from shap<0.40.0,>=0.38.1->econml) (1.3.0)\n",
            "Requirement already satisfied: patsy>=0.4.0 in /usr/local/lib/python3.7/dist-packages (from statsmodels>=0.10->econml) (0.5.2)\n",
            "Requirement already satisfied: mpmath>=0.19 in /usr/local/lib/python3.7/dist-packages (from sympy>=1.4->dowhy<0.7->econml) (1.2.1)\n",
            "Requirement already satisfied: llvmlite<0.35,>=0.34.0.dev0 in /usr/local/lib/python3.7/dist-packages (from numba->shap<0.40.0,>=0.38.1->econml) (0.34.0)\n",
            "Requirement already satisfied: setuptools in /usr/local/lib/python3.7/dist-packages (from numba->shap<0.40.0,>=0.38.1->econml) (57.4.0)\n",
            "Building wheels for collected packages: shap\n",
            "  Building wheel for shap (setup.py) ... \u001b[?25l\u001b[?25hdone\n",
            "  Created wheel for shap: filename=shap-0.39.0-cp37-cp37m-linux_x86_64.whl size=491686 sha256=4c795f4d8f92197fba262ee3e2308d4b07816d671c79d432f0d1d935f3b3cdfb\n",
            "  Stored in directory: /root/.cache/pip/wheels/ca/25/8f/6ae5df62c32651cd719e972e738a8aaa4a87414c4d2b14c9c0\n",
            "Successfully built shap\n",
            "Installing collected packages: slicer, pydot, sparse, shap, dowhy, econml\n",
            "  Attempting uninstall: pydot\n",
            "    Found existing installation: pydot 1.3.0\n",
            "    Uninstalling pydot-1.3.0:\n",
            "      Successfully uninstalled pydot-1.3.0\n",
            "Successfully installed dowhy-0.6 econml-0.13.0 pydot-1.4.2 shap-0.39.0 slicer-0.0.7 sparse-0.13.0\n"
          ]
        }
      ]
    },
    {
      "cell_type": "code",
      "metadata": {
        "id": "ld1FrbYQanaE",
        "colab": {
          "base_uri": "https://localhost:8080/",
          "height": 0
        },
        "outputId": "4e892275-8eb9-42e6-a2a2-acdc609bd2d1"
      },
      "source": [
        "# imports\n",
        "from econml.data.dynamic_panel_dgp import SemiSynthetic\n",
        "from sklearn.linear_model import LassoCV, MultiTaskLassoCV\n",
        "import numpy as np\n",
        "import matplotlib.pyplot as plt"
      ],
      "execution_count": 3,
      "outputs": [
        {
          "output_type": "stream",
          "name": "stderr",
          "text": [
            "/usr/local/lib/python3.7/dist-packages/statsmodels/tools/_testing.py:19: FutureWarning: pandas.util.testing is deprecated. Use the functions in the public API at pandas.testing instead.\n",
            "  import pandas.util.testing as tm\n"
          ]
        }
      ]
    },
    {
      "cell_type": "markdown",
      "metadata": {
        "id": "UYsHeEaqanaI"
      },
      "source": [
        "# Data\n",
        "\n",
        "The **semi-synthetic data*** is comprised of 4 components:\n",
        " * **Surrogates:** short-term metrics that could represent long-term revenue\n",
        " * **Treatments:** different types of monetary investments to the end customers\n",
        " * **Outcomes:** cumulative long-term revenue\n",
        " * **Controls:** lagged surrogates and treatments, other time-invariant controls (e.g. demographics)\n",
        "\n",
        "To build the semi-synthetic data we estimate a series of moments from a real-world dataset: a full covariance matrix of\n",
        "all surrogates, treatments, and controls in one period and a series of linear prediction models (lassoCV) of each surrogate and\n",
        "treatment on a set of 6 lags of each treatment, 6 lags of each surrogate, and time-invariant controls. Using these values, we draw new parameters from distributions matching the key characteristics of each family of parameters. Finally, we use these new\n",
        "parameters to simulate surrogates, treatments, and controls by drawing a set of initial values from the covariance matrix and\n",
        "forward simulating to match intertemporal relationships from the transformed prediction models. We use one surrogate to be the outcome of interests. Then we consider the effect of each treatment in period $t$ on the cumulative sum of outcome from following 4 periods. We can calculate the true treatment effects in the semi-synthetic data as a function of parameters from the linear prediction models.\n",
        "\n",
        "The input data is in a **panel format**. Each panel corresponds to one company and the different rows in a panel correspond to different time period. \n",
        "\n",
        "Example:\n",
        "\n",
        "||Company|Year|Features|Controls/Surrogates|T1|T2|T3|AdjRev|\n",
        "|---|---|---|---|---|---|---|---|---|\n",
        "|1|A|2018|...|...|\\$1,000|...|...|\\$10,000|\n",
        "|2|A|2019|...|...|\\$2,000|...|...|\\$12,000|\n",
        "|3|A|2020|...|...|\\$3,000|...|...|\\$15,000|\n",
        "|4|A|2021|...|...|\\$3,000|...|...|\\$18,000|\n",
        "|5|B|2018|...|...|\\$0|...|...|\\$5,000|\n",
        "|6|B|2019|...|...|\\$1,000|...|...|\\$10,000|\n",
        "|7|B|2020|...|...|\\$0|...|...|\\$7,000|\n",
        "|8|B|2021|...|...|\\$1,200|...|...|\\$12,000|\n",
        "|9|C|2018|...|...|\\$1,000|...|...|\\$20,000|\n",
        "|10|C|2019|...|...|\\$1,500|...|...|\\$25,000|\n",
        "|11|C|2020|...|...|\\$500|...|...|\\$18,000|\n",
        "|12|C|2021|...|...|\\$500|...|...|\\$20,000|\n",
        " \n",
        " **For confidentiality reason, the data used in this case study is synthetically generated and the feature distributions don't exactly correspond to real distributions.*"
      ]
    },
    {
      "cell_type": "code",
      "metadata": {
        "id": "zYo2DLneanaL",
        "colab": {
          "base_uri": "https://localhost:8080/",
          "height": 0
        },
        "outputId": "e4a45731-19ba-4cfa-a68e-b50831ea1d18"
      },
      "source": [
        "# generate historical dataset (training purpose)\n",
        "np.random.seed(43)\n",
        "dgp = SemiSynthetic()\n",
        "dgp.create_instance()\n",
        "n_periods = 4\n",
        "n_units = 5000\n",
        "n_treatments = dgp.n_treatments\n",
        "random_seed = 43\n",
        "thetas = np.random.uniform(0, 2, size=(dgp.n_proxies, n_treatments))\n",
        "\n",
        "panelX, panelT, panelY, panelGroups, true_effect = dgp.gen_data(\n",
        "    n_units, n_periods, thetas, random_seed)"
      ],
      "execution_count": 4,
      "outputs": [
        {
          "output_type": "stream",
          "name": "stderr",
          "text": [
            "/usr/local/lib/python3.7/dist-packages/sklearn/base.py:338: UserWarning: Trying to unpickle estimator GaussianMixture from version 0.24.1 when using version 1.0.2. This might lead to breaking code or invalid results. Use at your own risk. For more info please refer to:\n",
            "https://scikit-learn.org/stable/modules/model_persistence.html#security-maintainability-limitations\n",
            "  UserWarning,\n"
          ]
        }
      ]
    },
    {
      "cell_type": "code",
      "metadata": {
        "id": "bMQVHQTzanaO",
        "colab": {
          "base_uri": "https://localhost:8080/",
          "height": 0
        },
        "outputId": "5557221b-cded-4b54-b58c-35baa6b8b9f3"
      },
      "source": [
        "# print panel data shape\n",
        "print(\"Outcome shape: \", panelY.shape)\n",
        "print(\"Treatment shape: \", panelT.shape)\n",
        "print(\"Controls shape: \", panelX.shape)"
      ],
      "execution_count": 5,
      "outputs": [
        {
          "output_type": "stream",
          "name": "stdout",
          "text": [
            "Outcome shape:  (5000, 4)\n",
            "Treatment shape:  (5000, 4, 3)\n",
            "Controls shape:  (5000, 4, 71)\n"
          ]
        }
      ]
    },
    {
      "cell_type": "code",
      "source": [
        "len(panelY[:,0])"
      ],
      "metadata": {
        "colab": {
          "base_uri": "https://localhost:8080/",
          "height": 0
        },
        "id": "kSrHkBOI5l4E",
        "outputId": "27fc37d1-e961-49f3-b492-91d7874e6114"
      },
      "execution_count": 10,
      "outputs": [
        {
          "output_type": "execute_result",
          "data": {
            "text/plain": [
              "5000"
            ]
          },
          "metadata": {},
          "execution_count": 10
        }
      ]
    },
    {
      "cell_type": "code",
      "metadata": {
        "id": "epWJwhaCanaS"
      },
      "source": [
        "# generate new dataset (testing purpose)\n",
        "thetas_new = np.random.uniform(0, 2, size=(dgp.n_proxies, n_treatments))\n",
        "panelXnew, panelTnew, panelYnew, panelGroupsnew, true_effect_new = dgp.gen_data(\n",
        "    n_units, n_periods, thetas_new, random_seed\n",
        ")"
      ],
      "execution_count": 11,
      "outputs": []
    },
    {
      "cell_type": "code",
      "metadata": {
        "id": "QEvF23-7anaV",
        "colab": {
          "base_uri": "https://localhost:8080/",
          "height": 0
        },
        "outputId": "f74b39d4-02fd-4c0a-f707-415038789e62"
      },
      "source": [
        "# print true long term effect\n",
        "true_longterm_effect = np.sum(true_effect_new, axis=0)\n",
        "print(\"True Long-term Effect for each investment: \", true_longterm_effect)"
      ],
      "execution_count": 12,
      "outputs": [
        {
          "output_type": "stream",
          "name": "stdout",
          "text": [
            "True Long-term Effect for each investment:  [0.90994672 0.709811   2.45310877]\n"
          ]
        }
      ]
    },
    {
      "cell_type": "markdown",
      "metadata": {
        "id": "hI4ThKbnanab"
      },
      "source": [
        "# Do Dynamic Adjustment with EconML\n",
        "From the causal graph above, we could see we want to first remove the effects of future incentives from the historical outcomes to create an **adjusted long-term revenue** as if those future incentives never happened.\n",
        "\n",
        "EconML's `DynamicDML` estimator is an extension of Double Machine Learning approach to **dynamically estimate the period effect of treatments assigned sequentially over time period**. In this scenario, it could help us to adjust the cumulative revenue by subtracting the period effect of all of the investments after the target investment.\n",
        "\n",
        "For more details about `DynamicDML`, please read this [paper](https://arxiv.org/pdf/2002.07285.pdf). "
      ]
    },
    {
      "cell_type": "code",
      "metadata": {
        "id": "3rGdy_q7anad"
      },
      "source": [
        "# Helper function to reshape the panel data\n",
        "def long(x):  # reshape the panel data to (n_units * n_periods, -1)\n",
        "    n_units = x.shape[0]\n",
        "    n_periods = x.shape[1]\n",
        "    return (\n",
        "        x.reshape(n_units * n_periods)\n",
        "        if np.ndim(x) == 2\n",
        "        else x.reshape(n_units * n_periods, -1)\n",
        "    )\n",
        "\n",
        "\n",
        "def wide(x):  # reshape the panel data to (n_units, n_periods * d_x)\n",
        "    n_units = x.shape[0]\n",
        "    return x.reshape(n_units, -1)"
      ],
      "execution_count": 13,
      "outputs": []
    },
    {
      "cell_type": "code",
      "metadata": {
        "id": "QClFHYcfanae"
      },
      "source": [
        "# on historical data construct adjusted outcomes\n",
        "from econml.dynamic.dml import DynamicDML\n",
        "\n",
        "panelYadj = panelY.copy()\n",
        "\n",
        "est = DynamicDML(\n",
        "    model_y=LassoCV(max_iter=2000), model_t=MultiTaskLassoCV(max_iter=2000), cv=2\n",
        ")\n",
        "for t in range(1, n_periods):  # for each target period 1...m\n",
        "    # learn period effect for each period treatment on target period t\n",
        "    est.fit(\n",
        "        long(panelY[:, 1 : t + 1]),\n",
        "        long(panelT[:, 1 : t + 1, :]),  # reshape data to long format\n",
        "        X=None,\n",
        "        W=long(panelX[:, 1 : t + 1, :]),\n",
        "        groups=long(panelGroups[:, 1 : t + 1]),\n",
        "    )\n",
        "    # remove effect of observed treatments\n",
        "    T1 = wide(panelT[:, 1 : t + 1, :])\n",
        "    panelYadj[:, t] = panelY[:, t] - est.effect(\n",
        "        T0=np.zeros_like(T1), T1=T1\n",
        "    )  # reshape data to wide format"
      ],
      "execution_count": 14,
      "outputs": []
    },
    {
      "cell_type": "code",
      "source": [
        "long(panelY).shape"
      ],
      "metadata": {
        "colab": {
          "base_uri": "https://localhost:8080/",
          "height": 37
        },
        "id": "MBd5pNRN7lz0",
        "outputId": "e9f64609-9220-4475-d8b9-0c2790e1d80f"
      },
      "execution_count": 19,
      "outputs": [
        {
          "output_type": "execute_result",
          "data": {
            "text/plain": [
              "(20000,)"
            ],
            "image/png": "[encoded data removed]",
            "text/latex": "$\\displaystyle \\left( 20000,\\right)$"
          },
          "metadata": {},
          "execution_count": 19
        }
      ]
    },
    {
      "cell_type": "markdown",
      "metadata": {
        "id": "vaYZAdd2anag"
      },
      "source": [
        "# Train Surrogate Index\n",
        "Once we have the adjusted outcome, we'd like to train any ML model to learn the relationship between short-term surrogates and long-term revenue from the historical dataset, assuming the treatment effect of investments on long-term revenue could **only** go through short-term surrogates, and the **relationship keeps the same** between the historical dataset and the new dataset."
      ]
    },
    {
      "cell_type": "code",
      "metadata": {
        "id": "excwocaCanah"
      },
      "source": [
        "# train surrogate index on historical dataset\n",
        "XS = np.hstack(\n",
        "    [panelX[:, 1], panelYadj[:, :1]]\n",
        ")  # concatenate controls and surrogates from historical dataset\n",
        "TotalYadj = np.sum(panelYadj, axis=1)  # total revenue from historical dataset\n",
        "adjusted_proxy_model = LassoCV().fit(\n",
        "    XS, TotalYadj\n",
        ")  # train proxy model from historical dataset"
      ],
      "execution_count": 15,
      "outputs": []
    },
    {
      "cell_type": "code",
      "metadata": {
        "id": "QV2aePe9anai"
      },
      "source": [
        "# predict new long term revenue\n",
        "XSnew = np.hstack(\n",
        "    [panelXnew[:, 1], panelYnew[:, :1]]\n",
        ")  # concatenate controls and surrogates from new dataset\n",
        "sindex_adj = adjusted_proxy_model.predict(XSnew)"
      ],
      "execution_count": 16,
      "outputs": []
    },
    {
      "cell_type": "code",
      "source": [
        ""
      ],
      "metadata": {
        "id": "4G30yfnR-iL4"
      },
      "execution_count": null,
      "outputs": []
    },
    {
      "cell_type": "markdown",
      "metadata": {
        "id": "mhyZZC3Zanak"
      },
      "source": [
        "# Run DML to Learn ROI with EconML\n",
        "Finally we will call `LinearDML` estimator from EconML to learn the treatment effect of multiple investments on the adjusted surrogate index in new dataset. `LinearDML` is a two stage machine learning models for estimating **(heterogeneous) treatment effects** when all potential confounders are observed, it leverages the machine learning power to deal with **high dimensional dataset** and still be able to construct **confidence intervals**. \n",
        "\n",
        "For more details, please read this [paper](https://arxiv.org/pdf/1608.00060.pdf). "
      ]
    },
    {
      "cell_type": "code",
      "metadata": {
        "id": "IVCLwG1manak",
        "colab": {
          "base_uri": "https://localhost:8080/",
          "height": 295
        },
        "outputId": "59210bae-9f74-4bc3-d917-c229cc305419"
      },
      "source": [
        "# learn treatment effect on surrogate index on new dataset\n",
        "from econml.dml import LinearDML\n",
        "\n",
        "adjsurr_est = LinearDML(\n",
        "    model_y=LassoCV(max_iter=2000), model_t=MultiTaskLassoCV(max_iter=2000), cv=3\n",
        ")\n",
        "# fit treatment_0 on total revenue from new dataset\n",
        "adjsurr_est.fit(sindex_adj, panelTnew[:, 0], X=None, W=panelXnew[:, 0])\n",
        "# print treatment effect summary\n",
        "print(\"True Long-term Effect for each investment: \", true_longterm_effect)\n",
        "adjsurr_est.summary(alpha=0.05)"
      ],
      "execution_count": 21,
      "outputs": [
        {
          "output_type": "stream",
          "name": "stdout",
          "text": [
            "True Long-term Effect for each investment:  [0.90994672 0.709811   2.45310877]\n",
            "Coefficient Results:  X is None, please call intercept_inference to learn the constant!\n"
          ]
        },
        {
          "output_type": "execute_result",
          "data": {
            "text/plain": [
              "<class 'econml.utilities.Summary'>\n",
              "\"\"\"\n",
              "                         CATE Intercept Results                        \n",
              "=======================================================================\n",
              "                  point_estimate stderr zstat  pvalue ci_lower ci_upper\n",
              "-----------------------------------------------------------------------\n",
              "cate_intercept|T0           0.83  0.015 57.214    0.0    0.802    0.858\n",
              "cate_intercept|T1          0.677  0.028 23.767    0.0    0.621    0.733\n",
              "cate_intercept|T2          2.438  0.035 69.711    0.0    2.369    2.507\n",
              "-----------------------------------------------------------------------\n",
              "\n",
              "<sub>A linear parametric conditional average treatment effect (CATE) model was fitted:\n",
              "$Y = \\Theta(X)\\cdot T + g(X, W) + \\epsilon$\n",
              "where for every outcome $i$ and treatment $j$ the CATE $\\Theta_{ij}(X)$ has the form:\n",
              "$\\Theta_{ij}(X) = \\phi(X)' coef_{ij} + cate\\_intercept_{ij}$\n",
              "where $\\phi(X)$ is the output of the `featurizer` or $X$ if `featurizer`=None. Coefficient Results table portrays the $coef_{ij}$ parameter vector for each outcome $i$ and treatment $j$. Intercept Results table portrays the $cate\\_intercept_{ij}$ parameter.</sub>\n",
              "\"\"\""
            ],
            "text/html": [
              "<table class=\"simpletable\">\n",
              "<caption>CATE Intercept Results</caption>\n",
              "<tr>\n",
              "          <td></td>          <th>point_estimate</th> <th>stderr</th>  <th>zstat</th> <th>pvalue</th> <th>ci_lower</th> <th>ci_upper</th>\n",
              "</tr>\n",
              "<tr>\n",
              "  <th>cate_intercept|T0</th>      <td>0.83</td>       <td>0.015</td> <td>57.214</td>   <td>0.0</td>    <td>0.802</td>    <td>0.858</td> \n",
              "</tr>\n",
              "<tr>\n",
              "  <th>cate_intercept|T1</th>      <td>0.677</td>      <td>0.028</td> <td>23.767</td>   <td>0.0</td>    <td>0.621</td>    <td>0.733</td> \n",
              "</tr>\n",
              "<tr>\n",
              "  <th>cate_intercept|T2</th>      <td>2.438</td>      <td>0.035</td> <td>69.711</td>   <td>0.0</td>    <td>2.369</td>    <td>2.507</td> \n",
              "</tr>\n",
              "</table><br/><br/><sub>A linear parametric conditional average treatment effect (CATE) model was fitted:<br/>$Y = \\Theta(X)\\cdot T + g(X, W) + \\epsilon$<br/>where for every outcome $i$ and treatment $j$ the CATE $\\Theta_{ij}(X)$ has the form:<br/>$\\Theta_{ij}(X) = \\phi(X)' coef_{ij} + cate\\_intercept_{ij}$<br/>where $\\phi(X)$ is the output of the `featurizer` or $X$ if `featurizer`=None. Coefficient Results table portrays the $coef_{ij}$ parameter vector for each outcome $i$ and treatment $j$. Intercept Results table portrays the $cate\\_intercept_{ij}$ parameter.</sub>"
            ]
          },
          "metadata": {},
          "execution_count": 21
        }
      ]
    },
    {
      "cell_type": "code",
      "metadata": {
        "id": "ECWZC9K4anam"
      },
      "source": [
        "# save the treatment effect and confidence interval\n",
        "adjsurr_point_est = adjsurr_est.intercept_\n",
        "adjsurr_conf_int_lb, adjsurr_conf_int_ub = adjsurr_est.intercept__interval(alpha=0.05)"
      ],
      "execution_count": 22,
      "outputs": []
    },
    {
      "cell_type": "markdown",
      "metadata": {
        "id": "RJkvkceDanan"
      },
      "source": [
        "# Model Evaluation\n",
        "Now we want to compare the proposed **adjusted surrogate index** approach with estimation from realized long-term outcome. Below we train another `LinearDML` model on the realized cumulative revenue directly, without any adjustment. And then we visualize the two models output, comparing with the ground truth."
      ]
    },
    {
      "cell_type": "code",
      "metadata": {
        "id": "PWQPYFdQanan",
        "colab": {
          "base_uri": "https://localhost:8080/",
          "height": 295
        },
        "outputId": "056d3ca4-eff2-470e-d760-ab7be8c5af93"
      },
      "source": [
        "# learn treatment effect on direct outcome\n",
        "from econml.dml import LinearDML\n",
        "\n",
        "direct_est = LinearDML(\n",
        "    model_y=LassoCV(max_iter=2000), model_t=MultiTaskLassoCV(max_iter=2000), cv=3\n",
        ")\n",
        "# fit treatment_0 on total revenue from new dataset\n",
        "direct_est.fit(np.sum(panelYnew, axis=1), panelTnew[:, 0], X=None, W=panelXnew[:, 0])\n",
        "# print treatment effect summary\n",
        "print(\"True Long-term Effect for each investment: \", true_longterm_effect)\n",
        "direct_est.summary(alpha=0.05)"
      ],
      "execution_count": 23,
      "outputs": [
        {
          "output_type": "stream",
          "name": "stdout",
          "text": [
            "True Long-term Effect for each investment:  [0.90994672 0.709811   2.45310877]\n",
            "Coefficient Results:  X is None, please call intercept_inference to learn the constant!\n"
          ]
        },
        {
          "output_type": "execute_result",
          "data": {
            "text/plain": [
              "<class 'econml.utilities.Summary'>\n",
              "\"\"\"\n",
              "                         CATE Intercept Results                        \n",
              "=======================================================================\n",
              "                  point_estimate stderr zstat  pvalue ci_lower ci_upper\n",
              "-----------------------------------------------------------------------\n",
              "cate_intercept|T0          2.227  0.039 56.865    0.0     2.15    2.304\n",
              "cate_intercept|T1          1.561  0.226  6.911    0.0    1.118    2.004\n",
              "cate_intercept|T2          4.335  0.209 20.748    0.0    3.926    4.745\n",
              "-----------------------------------------------------------------------\n",
              "\n",
              "<sub>A linear parametric conditional average treatment effect (CATE) model was fitted:\n",
              "$Y = \\Theta(X)\\cdot T + g(X, W) + \\epsilon$\n",
              "where for every outcome $i$ and treatment $j$ the CATE $\\Theta_{ij}(X)$ has the form:\n",
              "$\\Theta_{ij}(X) = \\phi(X)' coef_{ij} + cate\\_intercept_{ij}$\n",
              "where $\\phi(X)$ is the output of the `featurizer` or $X$ if `featurizer`=None. Coefficient Results table portrays the $coef_{ij}$ parameter vector for each outcome $i$ and treatment $j$. Intercept Results table portrays the $cate\\_intercept_{ij}$ parameter.</sub>\n",
              "\"\"\""
            ],
            "text/html": [
              "<table class=\"simpletable\">\n",
              "<caption>CATE Intercept Results</caption>\n",
              "<tr>\n",
              "          <td></td>          <th>point_estimate</th> <th>stderr</th>  <th>zstat</th> <th>pvalue</th> <th>ci_lower</th> <th>ci_upper</th>\n",
              "</tr>\n",
              "<tr>\n",
              "  <th>cate_intercept|T0</th>      <td>2.227</td>      <td>0.039</td> <td>56.865</td>   <td>0.0</td>    <td>2.15</td>     <td>2.304</td> \n",
              "</tr>\n",
              "<tr>\n",
              "  <th>cate_intercept|T1</th>      <td>1.561</td>      <td>0.226</td>  <td>6.911</td>   <td>0.0</td>    <td>1.118</td>    <td>2.004</td> \n",
              "</tr>\n",
              "<tr>\n",
              "  <th>cate_intercept|T2</th>      <td>4.335</td>      <td>0.209</td> <td>20.748</td>   <td>0.0</td>    <td>3.926</td>    <td>4.745</td> \n",
              "</tr>\n",
              "</table><br/><br/><sub>A linear parametric conditional average treatment effect (CATE) model was fitted:<br/>$Y = \\Theta(X)\\cdot T + g(X, W) + \\epsilon$<br/>where for every outcome $i$ and treatment $j$ the CATE $\\Theta_{ij}(X)$ has the form:<br/>$\\Theta_{ij}(X) = \\phi(X)' coef_{ij} + cate\\_intercept_{ij}$<br/>where $\\phi(X)$ is the output of the `featurizer` or $X$ if `featurizer`=None. Coefficient Results table portrays the $coef_{ij}$ parameter vector for each outcome $i$ and treatment $j$. Intercept Results table portrays the $cate\\_intercept_{ij}$ parameter.</sub>"
            ]
          },
          "metadata": {},
          "execution_count": 23
        }
      ]
    },
    {
      "cell_type": "code",
      "source": [
        "type(panelTnew)"
      ],
      "metadata": {
        "colab": {
          "base_uri": "https://localhost:8080/",
          "height": 0
        },
        "id": "iyMYnTkY9Tqx",
        "outputId": "2782a57f-f054-451f-bfac-b0a990103fdc"
      },
      "execution_count": 30,
      "outputs": [
        {
          "output_type": "execute_result",
          "data": {
            "text/plain": [
              "numpy.ndarray"
            ]
          },
          "metadata": {},
          "execution_count": 30
        }
      ]
    },
    {
      "cell_type": "code",
      "source": [
        "panelTnew[:, 0].shape"
      ],
      "metadata": {
        "colab": {
          "base_uri": "https://localhost:8080/",
          "height": 37
        },
        "id": "SsntSxyk9JYM",
        "outputId": "e5deea1d-5005-4962-cbb6-87ee16d28c90"
      },
      "execution_count": 29,
      "outputs": [
        {
          "output_type": "execute_result",
          "data": {
            "text/plain": [
              "(5000, 3)"
            ],
            "image/png": "[encoded data removed]",
            "text/latex": "$\\displaystyle \\left( 5000, \\  3\\right)$"
          },
          "metadata": {},
          "execution_count": 29
        }
      ]
    },
    {
      "cell_type": "code",
      "metadata": {
        "id": "-EA23vnsanao"
      },
      "source": [
        "# save the treatment effect and confidence interval\n",
        "direct_point_est = direct_est.intercept_\n",
        "direct_conf_int_lb, direct_conf_int_ub = direct_est.intercept__interval(alpha=0.05)"
      ],
      "execution_count": 24,
      "outputs": []
    },
    {
      "cell_type": "code",
      "metadata": {
        "id": "mnNfHvwJanap",
        "colab": {
          "base_uri": "https://localhost:8080/",
          "height": 435
        },
        "outputId": "04412b48-dca7-4953-8a7b-2abf57e18785"
      },
      "source": [
        "# plot the error bar plot of different models\n",
        "plt.figure(figsize=(18, 6))\n",
        "plt.subplot(1, 2, 1)\n",
        "\n",
        "plt.errorbar(\n",
        "    np.arange(n_treatments) - 0.04,\n",
        "    true_longterm_effect,\n",
        "    fmt=\"o\",\n",
        "    alpha=0.6,\n",
        "    label=\"Ground truth\",\n",
        ")\n",
        "plt.errorbar(\n",
        "    np.arange(n_treatments),\n",
        "    adjsurr_point_est,\n",
        "    yerr=(\n",
        "        adjsurr_conf_int_ub - adjsurr_point_est,\n",
        "        adjsurr_point_est - adjsurr_conf_int_lb,\n",
        "    ),\n",
        "    fmt=\"o\",\n",
        "    label=\"Adjusted Surrogate Index\",\n",
        ")\n",
        "plt.xticks(np.arange(n_treatments), [\"T0\", \"T1\", \"T2\"])\n",
        "plt.ylabel(\"Effect\")\n",
        "plt.legend()\n",
        "\n",
        "plt.subplot(1, 2, 2)\n",
        "plt.errorbar(\n",
        "    np.arange(n_treatments) - 0.04,\n",
        "    true_longterm_effect,\n",
        "    fmt=\"o\",\n",
        "    alpha=0.6,\n",
        "    label=\"Ground truth\",\n",
        ")\n",
        "plt.errorbar(\n",
        "    np.arange(n_treatments),\n",
        "    adjsurr_point_est,\n",
        "    yerr=(\n",
        "        adjsurr_conf_int_ub - adjsurr_point_est,\n",
        "        adjsurr_point_est - adjsurr_conf_int_lb,\n",
        "    ),\n",
        "    fmt=\"o\",\n",
        "    label=\"Adjusted Surrogate Index\",\n",
        ")\n",
        "plt.errorbar(\n",
        "    np.arange(n_treatments) + 0.04,\n",
        "    direct_point_est,\n",
        "    yerr=(direct_conf_int_ub - direct_point_est, direct_point_est - direct_conf_int_lb),\n",
        "    fmt=\"o\",\n",
        "    label=\"Direct Model\",\n",
        ")\n",
        "plt.xticks(np.arange(n_treatments), [\"T0\", \"T1\", \"T2\"])\n",
        "plt.ylabel(\"Effect\")\n",
        "plt.legend()\n",
        "plt.suptitle(\"Error bar plot of treatment effect from different models\")"
      ],
      "execution_count": 25,
      "outputs": [
        {
          "output_type": "execute_result",
          "data": {
            "text/plain": [
              "Text(0.5, 0.98, 'Error bar plot of treatment effect from different models')"
            ]
          },
          "metadata": {},
          "execution_count": 25
        },
        {
          "output_type": "display_data",
          "data": {
            "text/plain": [
              "<Figure size 1296x432 with 2 Axes>"
            ],
            "image/png": "[encoded data removed]"
          },
          "metadata": {
            "needs_background": "light"
          }
        }
      ]
    },
    {
      "cell_type": "markdown",
      "metadata": {
        "id": "q6eCYFJDanar"
      },
      "source": [
        "We could see the **adjusted surrogate index** approach does a good job overcomes a common data limitation when considering long-term effects of novel treatments and expands the surrogate approach to consider a common, and previously\n",
        "problematic, pattern of serially correlated treatments."
      ]
    },
    {
      "cell_type": "markdown",
      "metadata": {
        "id": "4hTNbRJE6lCi"
      },
      "source": [
        "# Extensions -- Including Heterogeneity in Effect\n",
        "\n",
        "Finally, I will show that our EconML's `DynamicDML` and `LinearDML` estimators could not only learn Average Treatment Effect (ATE), but also **Heterogeneous Treatment Effect (CATE)**, which will return the treatment effect as a function of interested characteristics. In the example below, I will use first control variable as feature to learn effect heterogeneity, and retrain the final `LinearDML` model. Similarly, you could train `DynamicDML` with feature $X$ as well."
      ]
    },
    {
      "cell_type": "code",
      "metadata": {
        "colab": {
          "base_uri": "https://localhost:8080/",
          "height": 399
        },
        "id": "DPrXk0hG6ol9",
        "outputId": "4e23b21a-25b2-4218-fb2e-90e57f643ced"
      },
      "source": [
        "# learn treatment effect on surrogate index on new dataset\n",
        "from econml.dml import LinearDML\n",
        "\n",
        "adjsurr_est = LinearDML(\n",
        "    model_y=LassoCV(max_iter=2000), model_t=MultiTaskLassoCV(max_iter=2000), cv=3\n",
        ")\n",
        "# fit treatment_0 on total revenue from new dataset\n",
        "adjsurr_est.fit(\n",
        "    sindex_adj, panelTnew[:, 0], X=panelXnew[:, 0, :1], W=panelXnew[:, 0, 1:]\n",
        ")\n",
        "# print treatment effect summary\n",
        "print(\"True Long-term Effect for each investment: \", true_longterm_effect)\n",
        "print(\n",
        "    \"Average treatment effect for each investment: \",\n",
        "    adjsurr_est.const_marginal_ate(panelXnew[:, 0, :1]),\n",
        ")\n",
        "adjsurr_est.summary(alpha=0.05)"
      ],
      "execution_count": 31,
      "outputs": [
        {
          "output_type": "stream",
          "name": "stdout",
          "text": [
            "True Long-term Effect for each investment:  [0.90994672 0.709811   2.45310877]\n",
            "Average treatment effect for each investment:  [0.82144287 0.70746111 2.69594168]\n"
          ]
        },
        {
          "output_type": "execute_result",
          "data": {
            "text/plain": [
              "<class 'econml.utilities.Summary'>\n",
              "\"\"\"\n",
              "                    Coefficient Results                    \n",
              "===========================================================\n",
              "      point_estimate stderr zstat  pvalue ci_lower ci_upper\n",
              "-----------------------------------------------------------\n",
              "X0|T0          0.002  0.011  0.203  0.839   -0.019    0.024\n",
              "X0|T1          0.032  0.033  0.979  0.328   -0.032    0.097\n",
              "X0|T2         -0.149  0.159 -0.938  0.348    -0.46    0.162\n",
              "                         CATE Intercept Results                        \n",
              "=======================================================================\n",
              "                  point_estimate stderr zstat  pvalue ci_lower ci_upper\n",
              "-----------------------------------------------------------------------\n",
              "cate_intercept|T0          0.821  0.014 59.594    0.0    0.794    0.848\n",
              "cate_intercept|T1          0.708  0.035 19.954    0.0    0.638    0.777\n",
              "cate_intercept|T2          2.694   0.25 10.793    0.0    2.205    3.184\n",
              "-----------------------------------------------------------------------\n",
              "\n",
              "<sub>A linear parametric conditional average treatment effect (CATE) model was fitted:\n",
              "$Y = \\Theta(X)\\cdot T + g(X, W) + \\epsilon$\n",
              "where for every outcome $i$ and treatment $j$ the CATE $\\Theta_{ij}(X)$ has the form:\n",
              "$\\Theta_{ij}(X) = \\phi(X)' coef_{ij} + cate\\_intercept_{ij}$\n",
              "where $\\phi(X)$ is the output of the `featurizer` or $X$ if `featurizer`=None. Coefficient Results table portrays the $coef_{ij}$ parameter vector for each outcome $i$ and treatment $j$. Intercept Results table portrays the $cate\\_intercept_{ij}$ parameter.</sub>\n",
              "\"\"\""
            ],
            "text/html": [
              "<table class=\"simpletable\">\n",
              "<caption>Coefficient Results</caption>\n",
              "<tr>\n",
              "    <td></td>    <th>point_estimate</th> <th>stderr</th>  <th>zstat</th> <th>pvalue</th> <th>ci_lower</th> <th>ci_upper</th>\n",
              "</tr>\n",
              "<tr>\n",
              "  <th>X0|T0</th>      <td>0.002</td>      <td>0.011</td>  <td>0.203</td>  <td>0.839</td>  <td>-0.019</td>    <td>0.024</td> \n",
              "</tr>\n",
              "<tr>\n",
              "  <th>X0|T1</th>      <td>0.032</td>      <td>0.033</td>  <td>0.979</td>  <td>0.328</td>  <td>-0.032</td>    <td>0.097</td> \n",
              "</tr>\n",
              "<tr>\n",
              "  <th>X0|T2</th>     <td>-0.149</td>      <td>0.159</td> <td>-0.938</td>  <td>0.348</td>   <td>-0.46</td>    <td>0.162</td> \n",
              "</tr>\n",
              "</table>\n",
              "<table class=\"simpletable\">\n",
              "<caption>CATE Intercept Results</caption>\n",
              "<tr>\n",
              "          <td></td>          <th>point_estimate</th> <th>stderr</th>  <th>zstat</th> <th>pvalue</th> <th>ci_lower</th> <th>ci_upper</th>\n",
              "</tr>\n",
              "<tr>\n",
              "  <th>cate_intercept|T0</th>      <td>0.821</td>      <td>0.014</td> <td>59.594</td>   <td>0.0</td>    <td>0.794</td>    <td>0.848</td> \n",
              "</tr>\n",
              "<tr>\n",
              "  <th>cate_intercept|T1</th>      <td>0.708</td>      <td>0.035</td> <td>19.954</td>   <td>0.0</td>    <td>0.638</td>    <td>0.777</td> \n",
              "</tr>\n",
              "<tr>\n",
              "  <th>cate_intercept|T2</th>      <td>2.694</td>      <td>0.25</td>  <td>10.793</td>   <td>0.0</td>    <td>2.205</td>    <td>3.184</td> \n",
              "</tr>\n",
              "</table><br/><br/><sub>A linear parametric conditional average treatment effect (CATE) model was fitted:<br/>$Y = \\Theta(X)\\cdot T + g(X, W) + \\epsilon$<br/>where for every outcome $i$ and treatment $j$ the CATE $\\Theta_{ij}(X)$ has the form:<br/>$\\Theta_{ij}(X) = \\phi(X)' coef_{ij} + cate\\_intercept_{ij}$<br/>where $\\phi(X)$ is the output of the `featurizer` or $X$ if `featurizer`=None. Coefficient Results table portrays the $coef_{ij}$ parameter vector for each outcome $i$ and treatment $j$. Intercept Results table portrays the $cate\\_intercept_{ij}$ parameter.</sub>"
            ]
          },
          "metadata": {},
          "execution_count": 31
        }
      ]
    },
    {
      "cell_type": "markdown",
      "metadata": {
        "id": "Uj8J4XsT6xxB"
      },
      "source": [
        "From the summary table above, none of the coefficient for feature $X0$ is significant, that means there is no effect heterogeneity identified, which is consistent with the data generation process."
      ]
    },
    {
      "cell_type": "markdown",
      "metadata": {
        "id": "QfK5xlReanas"
      },
      "source": [
        "# Conclusions\n",
        "\n",
        "In this notebook, we have demonstrated the power of using EconML to:\n",
        "\n",
        "* estimate treatment effects in settings when multiple treatments are assigned over time and treatments can have a causal effect on future outcomes\n",
        "* correct the bias coming from auto-correlation of the historical treatment policy\n",
        "* use Machine Learning to enable estimation with high-dimensional surrogates and controls\n",
        "* solve a complex problem using an unified pipeline with only a few lines of code\n",
        "\n",
        "To learn more about what EconML can do for you, visit our [website](https://aka.ms/econml), our [GitHub page](https://github.com/microsoft/EconML) or our [documentation](https://econml.azurewebsites.net/). "
      ]
    }
  ]
}